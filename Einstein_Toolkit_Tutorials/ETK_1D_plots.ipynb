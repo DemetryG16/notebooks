{
 "cells": [
  {
   "cell_type": "code",
   "execution_count": 1,
   "metadata": {},
   "outputs": [],
   "source": [
    "import matplotlib.pyplot as plt\n",
    "import numpy as np\n",
    "from kuibit.simdir import SimDir\n",
    "from kuibit.grid_data import UniformGrid"
   ]
  },
  {
   "cell_type": "code",
   "execution_count": 2,
   "metadata": {},
   "outputs": [],
   "source": [
    "#initial data from the Exact Riemann solver of https://www.brunogiacomazzo.org/?page_id=395\n",
    "exact = np.loadtxt(\"Balsara1_exact.dat\")"
   ]
  },
  {
   "cell_type": "code",
   "execution_count": 3,
   "metadata": {},
   "outputs": [],
   "source": [
    "x_exact=exact[:,0]\n",
    "rho_exact=exact[:,1]\n",
    "press_exact=exact[:,2] #note: this is pgas+pmag\n",
    "vx_exact=exact[:,3]\n",
    "vy_exact=exact[:,4]\n",
    "vz_exact=exact[:,5]\n",
    "By_exact=exact[:,6]\n",
    "Bz_exact=exact[:,7]"
   ]
  },
  {
   "cell_type": "code",
   "execution_count": 4,
   "metadata": {},
   "outputs": [
    {
     "data": {
      "image/png": "[encoded data removed]",
      "text/plain": [
       "<Figure size 432x288 with 1 Axes>"
      ]
     },
     "metadata": {
      "needs_background": "light"
     },
     "output_type": "display_data"
    }
   ],
   "source": [
    "plt.plot(x_exact, rho_exact, label=\"exact\")\n",
    "plt.xlim(-0.5, 0.5)\n",
    "#plt.ylim(0.1, 0.3)\n",
    "plt.legend()\n",
    "plt.show()"
   ]
  },
  {
   "cell_type": "code",
   "execution_count": 5,
   "metadata": {},
   "outputs": [
    {
     "name": "stdout",
     "output_type": "stream",
     "text": [
      "\n",
      "Available grid data of dimension 1D (x): \n",
      "['Bcons[0]', 'Bcons[1]', 'Bcons[2]', 'Bvec[0]', 'Bvec[1]', 'Bvec[2]', 'dens', 'divB', 'eps', 'press', 'rho', 'scon[0]', 'scon[1]', 'scon[2]', 'tau', 'vel[0]', 'vel[1]', 'vel[2]', 'w_lorentz']\n",
      "\n",
      "\n",
      "Available grid data of dimension 1D (y): \n",
      "['Bcons[0]', 'Bcons[1]', 'Bcons[2]', 'Bvec[0]', 'Bvec[1]', 'Bvec[2]', 'dens', 'divB', 'eps', 'press', 'rho', 'scon[0]', 'scon[1]', 'scon[2]', 'tau', 'vel[0]', 'vel[1]', 'vel[2]', 'w_lorentz']\n",
      "\n",
      "\n",
      "Available grid data of dimension 1D (z): \n",
      "['Bcons[0]', 'Bcons[1]', 'Bcons[2]', 'Bvec[0]', 'Bvec[1]', 'Bvec[2]', 'dens', 'divB', 'eps', 'press', 'rho', 'scon[0]', 'scon[1]', 'scon[2]', 'tau', 'vel[0]', 'vel[1]', 'vel[2]', 'w_lorentz']\n",
      "\n",
      "\n",
      "Available grid data of dimension 2D (xy): \n",
      "[]\n",
      "\n",
      "\n",
      "Available grid data of dimension 2D (xz): \n",
      "[]\n",
      "\n",
      "\n",
      "Available grid data of dimension 2D (yz): \n",
      "[]\n",
      "\n",
      "\n",
      "Available grid data of dimension 3D (xyz): \n",
      "[]\n",
      "\n"
     ]
    }
   ],
   "source": [
    "gf= SimDir(\"balsara1_1d/\").gf\n",
    "print(gf)"
   ]
  },
  {
   "cell_type": "code",
   "execution_count": 6,
   "metadata": {},
   "outputs": [
    {
     "name": "stdout",
     "output_type": "stream",
     "text": [
      "\n",
      "Available grid data of dimension 1D (x): \n",
      "['Bcons[0]', 'Bcons[1]', 'Bcons[2]', 'Bvec[0]', 'Bvec[1]', 'Bvec[2]', 'dens', 'divB', 'eps', 'press', 'rho', 'scon[0]', 'scon[1]', 'scon[2]', 'tau', 'vel[0]', 'vel[1]', 'vel[2]', 'w_lorentz']\n",
      "\n"
     ]
    }
   ],
   "source": [
    "vars1d=gf.x\n",
    "print(vars1d)"
   ]
  },
  {
   "cell_type": "code",
   "execution_count": 8,
   "metadata": {},
   "outputs": [],
   "source": [
    "rho=vars1d.fields.rho"
   ]
  },
  {
   "cell_type": "code",
   "execution_count": 9,
   "metadata": {},
   "outputs": [
    {
     "name": "stdout",
     "output_type": "stream",
     "text": [
      "[0, 10, 20, 30, 40, 50, 60, 70, 80, 90, 100]\n"
     ]
    }
   ],
   "source": [
    "print(rho.iterations)"
   ]
  },
  {
   "cell_type": "code",
   "execution_count": 10,
   "metadata": {},
   "outputs": [],
   "source": [
    "small_grid = UniformGrid([101], x0=[-0.4], x1=[0.4])"
   ]
  },
  {
   "cell_type": "code",
   "execution_count": 11,
   "metadata": {},
   "outputs": [],
   "source": [
    "rho_final = rho.read_on_grid(100, small_grid)"
   ]
  },
  {
   "cell_type": "code",
   "execution_count": 12,
   "metadata": {},
   "outputs": [
    {
     "name": "stdout",
     "output_type": "stream",
     "text": [
      "[-0.4   -0.392 -0.384 -0.376 -0.368 -0.36  -0.352 -0.344 -0.336 -0.328\n",
      " -0.32  -0.312 -0.304 -0.296 -0.288 -0.28  -0.272 -0.264 -0.256 -0.248\n",
      " -0.24  -0.232 -0.224 -0.216 -0.208 -0.2   -0.192 -0.184 -0.176 -0.168\n",
      " -0.16  -0.152 -0.144 -0.136 -0.128 -0.12  -0.112 -0.104 -0.096 -0.088\n",
      " -0.08  -0.072 -0.064 -0.056 -0.048 -0.04  -0.032 -0.024 -0.016 -0.008\n",
      "  0.     0.008  0.016  0.024  0.032  0.04   0.048  0.056  0.064  0.072\n",
      "  0.08   0.088  0.096  0.104  0.112  0.12   0.128  0.136  0.144  0.152\n",
      "  0.16   0.168  0.176  0.184  0.192  0.2    0.208  0.216  0.224  0.232\n",
      "  0.24   0.248  0.256  0.264  0.272  0.28   0.288  0.296  0.304  0.312\n",
      "  0.32   0.328  0.336  0.344  0.352  0.36   0.368  0.376  0.384  0.392\n",
      "  0.4  ]\n"
     ]
    }
   ],
   "source": [
    "print(*rho_final.coordinates_meshgrid())"
   ]
  },
  {
   "cell_type": "code",
   "execution_count": 13,
   "metadata": {},
   "outputs": [
    {
     "data": {
      "image/png": "[encoded data removed]",
      "text/plain": [
       "<Figure size 432x288 with 1 Axes>"
      ]
     },
     "metadata": {
      "needs_background": "light"
     },
     "output_type": "display_data"
    }
   ],
   "source": [
    "plt.plot(*rho_final.coordinates_meshgrid(), rho_final.data_xyz, label=\"GRHydro\")\n",
    "plt.plot(x_exact, rho_exact, label=\"exact\")\n",
    "plt.xlim(-0.5, 0.5)\n",
    "#plt.ylim(0.1, 0.3)\n",
    "plt.legend()\n",
    "plt.show()"
   ]
  },
  {
   "cell_type": "code",
   "execution_count": 14,
   "metadata": {},
   "outputs": [
    {
     "name": "stdout",
     "output_type": "stream",
     "text": [
      "\n",
      "Available grid data of dimension 1D (x): \n",
      "['Bcons[0]', 'Bcons[1]', 'Bcons[2]', 'Bvec[0]', 'Bvec[1]', 'Bvec[2]', 'dens', 'divB', 'eps', 'press', 'rho', 'scon[0]', 'scon[1]', 'scon[2]', 'tau', 'vel[0]', 'vel[1]', 'vel[2]', 'w_lorentz']\n",
      "\n",
      "\n",
      "Available grid data of dimension 1D (y): \n",
      "['Bcons[0]', 'Bcons[1]', 'Bcons[2]', 'Bvec[0]', 'Bvec[1]', 'Bvec[2]', 'dens', 'divB', 'eps', 'press', 'rho', 'scon[0]', 'scon[1]', 'scon[2]', 'tau', 'vel[0]', 'vel[1]', 'vel[2]', 'w_lorentz']\n",
      "\n",
      "\n",
      "Available grid data of dimension 1D (z): \n",
      "['Bcons[0]', 'Bcons[1]', 'Bcons[2]', 'Bvec[0]', 'Bvec[1]', 'Bvec[2]', 'dens', 'divB', 'eps', 'press', 'rho', 'scon[0]', 'scon[1]', 'scon[2]', 'tau', 'vel[0]', 'vel[1]', 'vel[2]', 'w_lorentz']\n",
      "\n",
      "\n",
      "Available grid data of dimension 2D (xy): \n",
      "[]\n",
      "\n",
      "\n",
      "Available grid data of dimension 2D (xz): \n",
      "[]\n",
      "\n",
      "\n",
      "Available grid data of dimension 2D (yz): \n",
      "[]\n",
      "\n",
      "\n",
      "Available grid data of dimension 3D (xyz): \n",
      "[]\n",
      "\n"
     ]
    }
   ],
   "source": [
    "gf400= SimDir(\"balsara1_1d_400/\").gf\n",
    "print(gf400)"
   ]
  },
  {
   "cell_type": "code",
   "execution_count": 16,
   "metadata": {},
   "outputs": [
    {
     "name": "stdout",
     "output_type": "stream",
     "text": [
      "[0, 10, 20, 30, 40, 50, 60, 70, 80, 90, 100, 110, 120, 130, 140, 150, 160, 170, 180, 190, 200]\n"
     ]
    }
   ],
   "source": [
    "vars1d400=gf400.x\n",
    "rho400=vars1d400.fields.rho\n",
    "print(rho400.iterations)"
   ]
  },
  {
   "cell_type": "code",
   "execution_count": 17,
   "metadata": {},
   "outputs": [],
   "source": [
    "rho_final400 = rho400.read_on_grid(200, small_grid)"
   ]
  },
  {
   "cell_type": "code",
   "execution_count": 19,
   "metadata": {},
   "outputs": [
    {
     "data": {
      "image/png": "[encoded data removed]",
      "text/plain": [
       "<Figure size 432x288 with 1 Axes>"
      ]
     },
     "metadata": {
      "needs_background": "light"
     },
     "output_type": "display_data"
    }
   ],
   "source": [
    "plt.plot(*rho_final.coordinates_meshgrid(), rho_final.data_xyz, label=\"GRHydro - 200 pts\")\n",
    "plt.plot(*rho_final400.coordinates_meshgrid(), rho_final400.data_xyz, label=\"GRHydro - 400 pts\")\n",
    "plt.plot(x_exact, rho_exact, label=\"exact\")\n",
    "plt.xlim(0.0, 0.2)\n",
    "#plt.ylim(0.1, 0.3)\n",
    "plt.legend()\n",
    "plt.show()"
   ]
  },
  {
   "cell_type": "code",
   "execution_count": null,
   "metadata": {},
   "outputs": [],
   "source": []
  }
 ],
 "metadata": {
  "kernelspec": {
   "display_name": "Python 3",
   "language": "python",
   "name": "python3"
  },
  "language_info": {
   "codemirror_mode": {
    "name": "ipython",
    "version": 3
   },
   "file_extension": ".py",
   "mimetype": "text/x-python",
   "name": "python",
   "nbconvert_exporter": "python",
   "pygments_lexer": "ipython3",
   "version": "3.8.3"
  }
 },
 "nbformat": 4,
 "nbformat_minor": 4
}
