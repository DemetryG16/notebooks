{
 "cells": [
  {
   "cell_type": "markdown",
   "metadata": {},
   "source": [
    "# Riemann Problem"
   ]
  },
  {
   "cell_type": "code",
   "execution_count": 1,
   "metadata": {},
   "outputs": [],
   "source": [
    "import matplotlib.pyplot as plt\n",
    "import numpy as np\n",
    "from kuibit.simdir import SimDir\n",
    "from kuibit.grid_data import UniformGrid"
   ]
  },
  {
   "cell_type": "markdown",
   "metadata": {},
   "source": [
    "## Exact Solution"
   ]
  },
  {
   "cell_type": "code",
   "execution_count": 2,
   "metadata": {},
   "outputs": [],
   "source": [
    "#initial data from the Exact Riemann solver of https://www.brunogiacomazzo.org/?page_id=395\n",
    "exact = np.loadtxt(\"Balsara1_exact.dat\")"
   ]
  },
  {
   "cell_type": "code",
   "execution_count": 3,
   "metadata": {},
   "outputs": [],
   "source": [
    "x_exact=exact[:,0]\n",
    "rho_exact=exact[:,1]\n",
    "press_exact=exact[:,2] #note: this is pgas+pmag\n",
    "vx_exact=exact[:,3]\n",
    "vy_exact=exact[:,4]\n",
    "vz_exact=exact[:,5]\n",
    "By_exact=exact[:,6]\n",
    "Bz_exact=exact[:,7]"
   ]
  },
  {
   "cell_type": "code",
   "execution_count": 4,
   "metadata": {},
   "outputs": [
    {
     "data": {
      "image/png": "[encoded data removed]",
      "text/plain": [
       "<Figure size 432x288 with 1 Axes>"
      ]
     },
     "metadata": {
      "needs_background": "light"
     },
     "output_type": "display_data"
    }
   ],
   "source": [
    "plt.plot(x_exact, rho_exact, label=\"exact\")\n",
    "plt.xlim(-0.5, 0.5)\n",
    "#plt.ylim(0.1, 0.3)\n",
    "plt.legend()\n",
    "plt.show()"
   ]
  },
  {
   "cell_type": "markdown",
   "metadata": {},
   "source": [
    "## Read the Numerical Results"
   ]
  },
  {
   "cell_type": "code",
   "execution_count": 5,
   "metadata": {},
   "outputs": [
    {
     "name": "stdout",
     "output_type": "stream",
     "text": [
      "\n",
      "Available grid data of dimension 1D (x): \n",
      "['tau', 'Bvec[2]', 'Bcons[2]', 'vel[2]', 'Bvec[1]', 'Bcons[0]', 'Bvec[0]', 'vel[0]', 'eps', 'w_lorentz', 'press', 'scon[2]', 'Bcons[1]', 'scon[1]', 'rho', 'divB', 'scon[0]', 'dens', 'vel[1]']\n",
      "\n",
      "\n",
      "Available grid data of dimension 1D (y): \n",
      "['vel[2]', 'Bvec[1]', 'w_lorentz', 'scon[2]', 'rho', 'Bvec[0]', 'Bcons[1]', 'dens', 'scon[1]', 'vel[1]', 'tau', 'Bcons[0]', 'Bcons[2]', 'eps', 'divB', 'vel[0]', 'Bvec[2]', 'scon[0]', 'press']\n",
      "\n",
      "\n",
      "Available grid data of dimension 1D (z): \n",
      "['Bcons[0]', 'vel[0]', 'vel[1]', 'Bcons[2]', 'divB', 'tau', 'Bcons[1]', 'Bvec[1]', 'vel[2]', 'press', 'rho', 'Bvec[0]', 'scon[1]', 'scon[2]', 'scon[0]', 'eps', 'w_lorentz', 'dens', 'Bvec[2]']\n",
      "\n",
      "\n",
      "Available grid data of dimension 2D (xy): \n",
      "[]\n",
      "\n",
      "\n",
      "Available grid data of dimension 2D (xz): \n",
      "[]\n",
      "\n",
      "\n",
      "Available grid data of dimension 2D (yz): \n",
      "[]\n",
      "\n",
      "\n",
      "Available grid data of dimension 3D (xyz): \n",
      "[]\n",
      "\n"
     ]
    }
   ],
   "source": [
    "gf= SimDir(\"./balsara1_1d_400\").gf\n",
    "print(gf)"
   ]
  },
  {
   "cell_type": "code",
   "execution_count": 6,
   "metadata": {},
   "outputs": [
    {
     "name": "stdout",
     "output_type": "stream",
     "text": [
      "\n",
      "Available grid data of dimension 1D (x): \n",
      "['tau', 'Bvec[2]', 'Bcons[2]', 'vel[2]', 'Bvec[1]', 'Bcons[0]', 'Bvec[0]', 'vel[0]', 'eps', 'w_lorentz', 'press', 'scon[2]', 'Bcons[1]', 'scon[1]', 'rho', 'divB', 'scon[0]', 'dens', 'vel[1]']\n",
      "\n"
     ]
    }
   ],
   "source": [
    "vars1d=gf.x\n",
    "print(vars1d)"
   ]
  },
  {
   "cell_type": "code",
   "execution_count": 7,
   "metadata": {},
   "outputs": [],
   "source": [
    "rho=vars1d.fields.rho"
   ]
  },
  {
   "cell_type": "markdown",
   "metadata": {},
   "source": [
    "## Kuibit Standard Methods for Plots\n",
    "\n",
    "We create a uniform grid and plot the data on it. Kuibit indeed assumes that data were produced on a grid with several meshes (AMR). In our case the grid was already uniform, so later we will see an alternative way to plot the data without interpolating them on a new grid."
   ]
  },
  {
   "cell_type": "code",
   "execution_count": 8,
   "metadata": {},
   "outputs": [],
   "source": [
    "small_grid = UniformGrid([101], x0=[-0.4], x1=[0.4])"
   ]
  },
  {
   "cell_type": "code",
   "execution_count": 9,
   "metadata": {},
   "outputs": [
    {
     "name": "stdout",
     "output_type": "stream",
     "text": [
      "[0, 10, 20, 30, 40, 50, 60, 70, 80, 90, 100, 110, 120, 130, 140, 150, 160, 170, 180, 190, 200]\n"
     ]
    }
   ],
   "source": [
    "print(rho.iterations)"
   ]
  },
  {
   "cell_type": "code",
   "execution_count": 10,
   "metadata": {},
   "outputs": [],
   "source": [
    "rho_final = rho.read_on_grid(200, small_grid)"
   ]
  },
  {
   "cell_type": "code",
   "execution_count": 11,
   "metadata": {},
   "outputs": [
    {
     "name": "stdout",
     "output_type": "stream",
     "text": [
      "[-0.4   -0.392 -0.384 -0.376 -0.368 -0.36  -0.352 -0.344 -0.336 -0.328\n",
      " -0.32  -0.312 -0.304 -0.296 -0.288 -0.28  -0.272 -0.264 -0.256 -0.248\n",
      " -0.24  -0.232 -0.224 -0.216 -0.208 -0.2   -0.192 -0.184 -0.176 -0.168\n",
      " -0.16  -0.152 -0.144 -0.136 -0.128 -0.12  -0.112 -0.104 -0.096 -0.088\n",
      " -0.08  -0.072 -0.064 -0.056 -0.048 -0.04  -0.032 -0.024 -0.016 -0.008\n",
      "  0.     0.008  0.016  0.024  0.032  0.04   0.048  0.056  0.064  0.072\n",
      "  0.08   0.088  0.096  0.104  0.112  0.12   0.128  0.136  0.144  0.152\n",
      "  0.16   0.168  0.176  0.184  0.192  0.2    0.208  0.216  0.224  0.232\n",
      "  0.24   0.248  0.256  0.264  0.272  0.28   0.288  0.296  0.304  0.312\n",
      "  0.32   0.328  0.336  0.344  0.352  0.36   0.368  0.376  0.384  0.392\n",
      "  0.4  ]\n"
     ]
    }
   ],
   "source": [
    "print(*rho_final.coordinates_meshgrid())"
   ]
  },
  {
   "cell_type": "code",
   "execution_count": 12,
   "metadata": {},
   "outputs": [
    {
     "data": {
      "image/png": "[encoded data removed]",
      "text/plain": [
       "<Figure size 432x288 with 1 Axes>"
      ]
     },
     "metadata": {
      "needs_background": "light"
     },
     "output_type": "display_data"
    }
   ],
   "source": [
    "plt.plot(*rho_final.coordinates_meshgrid(), rho_final.data_xyz, label=\"GRHydro\")\n",
    "plt.plot(x_exact, rho_exact, label=\"exact\")\n",
    "plt.xlim(-0.5, 0.5)\n",
    "#plt.ylim(0.1, 0.3)\n",
    "plt.legend()\n",
    "plt.show()"
   ]
  },
  {
   "cell_type": "markdown",
   "metadata": {},
   "source": [
    "## Alternative Method\n",
    "This method can only be used with simulations that used only one refinement level (i.e., a uniform grid) and using only 1 MPI process."
   ]
  },
  {
   "cell_type": "code",
   "execution_count": 13,
   "metadata": {},
   "outputs": [
    {
     "data": {
      "text/plain": [
       "array([1.   , 1.   , 1.   , 1.   , 1.   , 1.   , 1.   , 1.   , 1.   ,\n",
       "       1.   , 1.   , 1.   , 1.   , 1.   , 1.   , 1.   , 1.   , 1.   ,\n",
       "       1.   , 1.   , 1.   , 1.   , 1.   , 1.   , 1.   , 1.   , 1.   ,\n",
       "       1.   , 1.   , 1.   , 1.   , 1.   , 1.   , 1.   , 1.   , 1.   ,\n",
       "       1.   , 1.   , 1.   , 1.   , 1.   , 1.   , 1.   , 1.   , 1.   ,\n",
       "       1.   , 1.   , 1.   , 1.   , 1.   , 1.   , 1.   , 1.   , 1.   ,\n",
       "       1.   , 1.   , 1.   , 1.   , 1.   , 1.   , 1.   , 1.   , 1.   ,\n",
       "       1.   , 1.   , 1.   , 1.   , 1.   , 1.   , 1.   , 1.   , 1.   ,\n",
       "       1.   , 1.   , 1.   , 1.   , 1.   , 1.   , 1.   , 1.   , 1.   ,\n",
       "       1.   , 1.   , 1.   , 1.   , 1.   , 1.   , 1.   , 1.   , 1.   ,\n",
       "       1.   , 1.   , 1.   , 1.   , 1.   , 1.   , 1.   , 1.   , 1.   ,\n",
       "       1.   , 1.   , 1.   , 1.   , 1.   , 1.   , 1.   , 1.   , 1.   ,\n",
       "       1.   , 1.   , 1.   , 1.   , 1.   , 1.   , 1.   , 1.   , 1.   ,\n",
       "       1.   , 1.   , 1.   , 1.   , 1.   , 1.   , 1.   , 1.   , 1.   ,\n",
       "       1.   , 1.   , 1.   , 1.   , 1.   , 1.   , 1.   , 1.   , 1.   ,\n",
       "       1.   , 1.   , 1.   , 1.   , 1.   , 1.   , 1.   , 1.   , 1.   ,\n",
       "       1.   , 1.   , 1.   , 1.   , 1.   , 1.   , 1.   , 1.   , 1.   ,\n",
       "       1.   , 1.   , 1.   , 1.   , 1.   , 1.   , 1.   , 1.   , 1.   ,\n",
       "       1.   , 1.   , 1.   , 1.   , 1.   , 1.   , 1.   , 1.   , 1.   ,\n",
       "       1.   , 1.   , 1.   , 1.   , 1.   , 1.   , 1.   , 1.   , 1.   ,\n",
       "       1.   , 1.   , 1.   , 1.   , 1.   , 1.   , 1.   , 1.   , 1.   ,\n",
       "       1.   , 1.   , 1.   , 1.   , 1.   , 1.   , 1.   , 1.   , 1.   ,\n",
       "       0.125, 0.125, 0.125, 0.125, 0.125, 0.125, 0.125, 0.125, 0.125,\n",
       "       0.125, 0.125, 0.125, 0.125, 0.125, 0.125, 0.125, 0.125, 0.125,\n",
       "       0.125, 0.125, 0.125, 0.125, 0.125, 0.125, 0.125, 0.125, 0.125,\n",
       "       0.125, 0.125, 0.125, 0.125, 0.125, 0.125, 0.125, 0.125, 0.125,\n",
       "       0.125, 0.125, 0.125, 0.125, 0.125, 0.125, 0.125, 0.125, 0.125,\n",
       "       0.125, 0.125, 0.125, 0.125, 0.125, 0.125, 0.125, 0.125, 0.125,\n",
       "       0.125, 0.125, 0.125, 0.125, 0.125, 0.125, 0.125, 0.125, 0.125,\n",
       "       0.125, 0.125, 0.125, 0.125, 0.125, 0.125, 0.125, 0.125, 0.125,\n",
       "       0.125, 0.125, 0.125, 0.125, 0.125, 0.125, 0.125, 0.125, 0.125,\n",
       "       0.125, 0.125, 0.125, 0.125, 0.125, 0.125, 0.125, 0.125, 0.125,\n",
       "       0.125, 0.125, 0.125, 0.125, 0.125, 0.125, 0.125, 0.125, 0.125,\n",
       "       0.125, 0.125, 0.125, 0.125, 0.125, 0.125, 0.125, 0.125, 0.125,\n",
       "       0.125, 0.125, 0.125, 0.125, 0.125, 0.125, 0.125, 0.125, 0.125,\n",
       "       0.125, 0.125, 0.125, 0.125, 0.125, 0.125, 0.125, 0.125, 0.125,\n",
       "       0.125, 0.125, 0.125, 0.125, 0.125, 0.125, 0.125, 0.125, 0.125,\n",
       "       0.125, 0.125, 0.125, 0.125, 0.125, 0.125, 0.125, 0.125, 0.125,\n",
       "       0.125, 0.125, 0.125, 0.125, 0.125, 0.125, 0.125, 0.125, 0.125,\n",
       "       0.125, 0.125, 0.125, 0.125, 0.125, 0.125, 0.125, 0.125, 0.125,\n",
       "       0.125, 0.125, 0.125, 0.125, 0.125, 0.125, 0.125, 0.125, 0.125,\n",
       "       0.125, 0.125, 0.125, 0.125, 0.125, 0.125, 0.125, 0.125, 0.125,\n",
       "       0.125, 0.125, 0.125, 0.125, 0.125, 0.125, 0.125, 0.125, 0.125,\n",
       "       0.125, 0.125, 0.125, 0.125, 0.125, 0.125, 0.125, 0.125])"
      ]
     },
     "execution_count": 13,
     "metadata": {},
     "output_type": "execute_result"
    }
   ],
   "source": [
    "#[iterazione][refinement level][component number]\n",
    "rho[0][0][0].data"
   ]
  },
  {
   "cell_type": "code",
   "execution_count": 14,
   "metadata": {},
   "outputs": [
    {
     "data": {
      "text/plain": [
       "array([-0.4925, -0.49  , -0.4875, -0.485 , -0.4825, -0.48  , -0.4775,\n",
       "       -0.475 , -0.4725, -0.47  , -0.4675, -0.465 , -0.4625, -0.46  ,\n",
       "       -0.4575, -0.455 , -0.4525, -0.45  , -0.4475, -0.445 , -0.4425,\n",
       "       -0.44  , -0.4375, -0.435 , -0.4325, -0.43  , -0.4275, -0.425 ,\n",
       "       -0.4225, -0.42  , -0.4175, -0.415 , -0.4125, -0.41  , -0.4075,\n",
       "       -0.405 , -0.4025, -0.4   , -0.3975, -0.395 , -0.3925, -0.39  ,\n",
       "       -0.3875, -0.385 , -0.3825, -0.38  , -0.3775, -0.375 , -0.3725,\n",
       "       -0.37  , -0.3675, -0.365 , -0.3625, -0.36  , -0.3575, -0.355 ,\n",
       "       -0.3525, -0.35  , -0.3475, -0.345 , -0.3425, -0.34  , -0.3375,\n",
       "       -0.335 , -0.3325, -0.33  , -0.3275, -0.325 , -0.3225, -0.32  ,\n",
       "       -0.3175, -0.315 , -0.3125, -0.31  , -0.3075, -0.305 , -0.3025,\n",
       "       -0.3   , -0.2975, -0.295 , -0.2925, -0.29  , -0.2875, -0.285 ,\n",
       "       -0.2825, -0.28  , -0.2775, -0.275 , -0.2725, -0.27  , -0.2675,\n",
       "       -0.265 , -0.2625, -0.26  , -0.2575, -0.255 , -0.2525, -0.25  ,\n",
       "       -0.2475, -0.245 , -0.2425, -0.24  , -0.2375, -0.235 , -0.2325,\n",
       "       -0.23  , -0.2275, -0.225 , -0.2225, -0.22  , -0.2175, -0.215 ,\n",
       "       -0.2125, -0.21  , -0.2075, -0.205 , -0.2025, -0.2   , -0.1975,\n",
       "       -0.195 , -0.1925, -0.19  , -0.1875, -0.185 , -0.1825, -0.18  ,\n",
       "       -0.1775, -0.175 , -0.1725, -0.17  , -0.1675, -0.165 , -0.1625,\n",
       "       -0.16  , -0.1575, -0.155 , -0.1525, -0.15  , -0.1475, -0.145 ,\n",
       "       -0.1425, -0.14  , -0.1375, -0.135 , -0.1325, -0.13  , -0.1275,\n",
       "       -0.125 , -0.1225, -0.12  , -0.1175, -0.115 , -0.1125, -0.11  ,\n",
       "       -0.1075, -0.105 , -0.1025, -0.1   , -0.0975, -0.095 , -0.0925,\n",
       "       -0.09  , -0.0875, -0.085 , -0.0825, -0.08  , -0.0775, -0.075 ,\n",
       "       -0.0725, -0.07  , -0.0675, -0.065 , -0.0625, -0.06  , -0.0575,\n",
       "       -0.055 , -0.0525, -0.05  , -0.0475, -0.045 , -0.0425, -0.04  ,\n",
       "       -0.0375, -0.035 , -0.0325, -0.03  , -0.0275, -0.025 , -0.0225,\n",
       "       -0.02  , -0.0175, -0.015 , -0.0125, -0.01  , -0.0075, -0.005 ,\n",
       "       -0.0025,  0.    ,  0.0025,  0.005 ,  0.0075,  0.01  ,  0.0125,\n",
       "        0.015 ,  0.0175,  0.02  ,  0.0225,  0.025 ,  0.0275,  0.03  ,\n",
       "        0.0325,  0.035 ,  0.0375,  0.04  ,  0.0425,  0.045 ,  0.0475,\n",
       "        0.05  ,  0.0525,  0.055 ,  0.0575,  0.06  ,  0.0625,  0.065 ,\n",
       "        0.0675,  0.07  ,  0.0725,  0.075 ,  0.0775,  0.08  ,  0.0825,\n",
       "        0.085 ,  0.0875,  0.09  ,  0.0925,  0.095 ,  0.0975,  0.1   ,\n",
       "        0.1025,  0.105 ,  0.1075,  0.11  ,  0.1125,  0.115 ,  0.1175,\n",
       "        0.12  ,  0.1225,  0.125 ,  0.1275,  0.13  ,  0.1325,  0.135 ,\n",
       "        0.1375,  0.14  ,  0.1425,  0.145 ,  0.1475,  0.15  ,  0.1525,\n",
       "        0.155 ,  0.1575,  0.16  ,  0.1625,  0.165 ,  0.1675,  0.17  ,\n",
       "        0.1725,  0.175 ,  0.1775,  0.18  ,  0.1825,  0.185 ,  0.1875,\n",
       "        0.19  ,  0.1925,  0.195 ,  0.1975,  0.2   ,  0.2025,  0.205 ,\n",
       "        0.2075,  0.21  ,  0.2125,  0.215 ,  0.2175,  0.22  ,  0.2225,\n",
       "        0.225 ,  0.2275,  0.23  ,  0.2325,  0.235 ,  0.2375,  0.24  ,\n",
       "        0.2425,  0.245 ,  0.2475,  0.25  ,  0.2525,  0.255 ,  0.2575,\n",
       "        0.26  ,  0.2625,  0.265 ,  0.2675,  0.27  ,  0.2725,  0.275 ,\n",
       "        0.2775,  0.28  ,  0.2825,  0.285 ,  0.2875,  0.29  ,  0.2925,\n",
       "        0.295 ,  0.2975,  0.3   ,  0.3025,  0.305 ,  0.3075,  0.31  ,\n",
       "        0.3125,  0.315 ,  0.3175,  0.32  ,  0.3225,  0.325 ,  0.3275,\n",
       "        0.33  ,  0.3325,  0.335 ,  0.3375,  0.34  ,  0.3425,  0.345 ,\n",
       "        0.3475,  0.35  ,  0.3525,  0.355 ,  0.3575,  0.36  ,  0.3625,\n",
       "        0.365 ,  0.3675,  0.37  ,  0.3725,  0.375 ,  0.3775,  0.38  ,\n",
       "        0.3825,  0.385 ,  0.3875,  0.39  ,  0.3925,  0.395 ,  0.3975,\n",
       "        0.4   ,  0.4025,  0.405 ,  0.4075,  0.41  ,  0.4125,  0.415 ,\n",
       "        0.4175,  0.42  ,  0.4225,  0.425 ,  0.4275,  0.43  ,  0.4325,\n",
       "        0.435 ,  0.4375,  0.44  ,  0.4425,  0.445 ,  0.4475,  0.45  ,\n",
       "        0.4525,  0.455 ,  0.4575,  0.46  ,  0.4625,  0.465 ,  0.4675,\n",
       "        0.47  ,  0.4725,  0.475 ,  0.4775,  0.48  ,  0.4825,  0.485 ,\n",
       "        0.4875,  0.49  ,  0.4925])"
      ]
     },
     "execution_count": 14,
     "metadata": {},
     "output_type": "execute_result"
    }
   ],
   "source": [
    "rho[0][0][0].coordinates()[0].data"
   ]
  },
  {
   "cell_type": "code",
   "execution_count": 15,
   "metadata": {},
   "outputs": [
    {
     "data": {
      "image/png": "[encoded data removed]",
      "text/plain": [
       "<Figure size 432x288 with 1 Axes>"
      ]
     },
     "metadata": {
      "needs_background": "light"
     },
     "output_type": "display_data"
    }
   ],
   "source": [
    "plt.plot(rho[200][0][0].coordinates()[0].data,rho[200][0][0].data, label=\"GRHydro\", marker='o')\n",
    "plt.plot(x_exact, rho_exact, label=\"exact\")\n",
    "plt.xlim(-0.5, 0.5)\n",
    "plt.legend()\n",
    "plt.show()"
   ]
  },
  {
   "cell_type": "code",
   "execution_count": null,
   "metadata": {},
   "outputs": [],
   "source": []
  }
 ],
 "metadata": {
  "kernelspec": {
   "display_name": "Python 3",
   "language": "python",
   "name": "python3"
  },
  "language_info": {
   "codemirror_mode": {
    "name": "ipython",
    "version": 3
   },
   "file_extension": ".py",
   "mimetype": "text/x-python",
   "name": "python",
   "nbconvert_exporter": "python",
   "pygments_lexer": "ipython3",
   "version": "3.8.3"
  }
 },
 "nbformat": 4,
 "nbformat_minor": 4
}
