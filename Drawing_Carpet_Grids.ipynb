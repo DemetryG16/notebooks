{
 "cells": [
  {
   "cell_type": "markdown",
   "metadata": {},
   "source": [
    "# Drawing Carpet Refinement Levels"
   ]
  },
  {
   "cell_type": "code",
   "execution_count": 1,
   "metadata": {
    "scrolled": true
   },
   "outputs": [
    {
     "data": {
      "image/png": "[encoded data removed]",
      "text/plain": [
       "<Figure size 432x288 with 1 Axes>"
      ]
     },
     "metadata": {
      "needs_background": "light"
     },
     "output_type": "display_data"
    }
   ],
   "source": [
    "import matplotlib.pyplot as plt\n",
    "from matplotlib.patches import Rectangle\n",
    "fig, ax = plt.subplots()\n",
    "\n",
    "#plot the NS positions\n",
    "ax.scatter([-15, 15],[0,0])\n",
    "\n",
    "#define the Region 1\n",
    "center_1=15\n",
    "radius_1=300\n",
    "radius_2=160\n",
    "radius_3=80\n",
    "radius_4=40\n",
    "radius_5=20\n",
    "radius_6=10\n",
    "\n",
    "#plot region 1 levels\n",
    "ax.add_patch(Rectangle((center_1-radius_1, 0-radius_1), 2*radius_1, 2*radius_1, fc='none', color ='black', linewidth = 2, linestyle=\"dotted\"))\n",
    "ax.add_patch(Rectangle((center_1-radius_2, 0-radius_2), 2*radius_2, 2*radius_2, fc='none', color ='black', linewidth = 2, linestyle=\"dotted\"))\n",
    "ax.add_patch(Rectangle((center_1-radius_3, 0-radius_3), 2*radius_3, 2*radius_3, fc='none', color ='black', linewidth = 2, linestyle=\"dotted\"))\n",
    "ax.add_patch(Rectangle((center_1-radius_4, 0-radius_4), 2*radius_4, 2*radius_4, fc='none', color ='black', linewidth = 2, linestyle=\"dotted\"))\n",
    "ax.add_patch(Rectangle((center_1-radius_5, 0-radius_5), 2*radius_5, 2*radius_5, fc='none', color ='black', linewidth = 2, linestyle=\"dotted\"))\n",
    "ax.add_patch(Rectangle((center_1-radius_6, 0-radius_6), 2*radius_6, 2*radius_6, fc='none', color ='black', linewidth = 2, linestyle=\"dotted\"))\n",
    "\n",
    "\n",
    "\n",
    "#define the Region 2\n",
    "center_1=-15\n",
    "radius_1=300\n",
    "radius_2=160\n",
    "radius_3=80\n",
    "radius_4=40\n",
    "radius_5=20\n",
    "radius_6=10\n",
    "\n",
    "#plot region 2 levels\n",
    "ax.add_patch(Rectangle((center_1-radius_1, 0-radius_1), 2*radius_1, 2*radius_1, fc='none', color ='blue', linewidth = 2, linestyle=\"dotted\"))\n",
    "ax.add_patch(Rectangle((center_1-radius_2, 0-radius_2), 2*radius_2, 2*radius_2, fc='none', color ='blue', linewidth = 2, linestyle=\"dotted\"))\n",
    "ax.add_patch(Rectangle((center_1-radius_3, 0-radius_3), 2*radius_3, 2*radius_3, fc='none', color ='blue', linewidth = 2, linestyle=\"dotted\"))\n",
    "ax.add_patch(Rectangle((center_1-radius_4, 0-radius_4), 2*radius_4, 2*radius_4, fc='none', color ='blue', linewidth = 2, linestyle=\"dotted\"))\n",
    "ax.add_patch(Rectangle((center_1-radius_5, 0-radius_5), 2*radius_5, 2*radius_5, fc='none', color ='blue', linewidth = 2, linestyle=\"dotted\"))\n",
    "ax.add_patch(Rectangle((center_1-radius_6, 0-radius_6), 2*radius_6, 2*radius_6, fc='none', color ='blue', linewidth = 2, linestyle=\"dotted\"))\n",
    "\n",
    "\n",
    "#define the Region 3\n",
    "center_1=0\n",
    "radius_1=400\n",
    "radius_2=200\n",
    "radius_3=100\n",
    "\n",
    "#plot region 2 levels\n",
    "ax.add_patch(Rectangle((center_1-radius_1, 0-radius_1), 2*radius_1, 2*radius_1, fc='none', color ='red', linewidth = 2, linestyle=\"-\"))\n",
    "ax.add_patch(Rectangle((center_1-radius_2, 0-radius_2), 2*radius_2, 2*radius_2, fc='none', color ='red', linewidth = 2, linestyle=\"-\"))\n",
    "ax.add_patch(Rectangle((center_1-radius_3, 0-radius_3), 2*radius_3, 2*radius_3, fc='none', color ='red', linewidth = 2, linestyle=\"-\"))\n",
    "\n",
    "\n",
    "#plt.xlim(-200, 200)\n",
    "#plt.ylim(-200, 200)\n",
    "\n",
    "plt.show()"
   ]
  },
  {
   "cell_type": "code",
   "execution_count": null,
   "metadata": {},
   "outputs": [],
   "source": []
  }
 ],
 "metadata": {
  "kernelspec": {
   "display_name": "Python 3",
   "language": "python",
   "name": "python3"
  },
  "language_info": {
   "codemirror_mode": {
    "name": "ipython",
    "version": 3
   },
   "file_extension": ".py",
   "mimetype": "text/x-python",
   "name": "python",
   "nbconvert_exporter": "python",
   "pygments_lexer": "ipython3",
   "version": "3.8.3"
  }
 },
 "nbformat": 4,
 "nbformat_minor": 4
}
