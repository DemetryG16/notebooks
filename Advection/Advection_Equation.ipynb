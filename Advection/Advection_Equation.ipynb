{
  "cells": [
    {
      "cell_type": "markdown",
      "metadata": {
        "id": "7PftHsfXHHfT"
      },
      "source": [
        "# Advection Equation\n",
        "\n",
        "Here we solve the advection equation $u_t + a u_x=0$ using as an initial condition a gaussian profile $u(x,t=0)=\\exp{[-(x-x_0)^2]}$ with $x_0=5$.\n",
        "\n",
        "We use a domain $x\\in [0,10]$ with periodic boundary conditions."
      ]
    },
    {
      "cell_type": "code",
      "execution_count": 5,
      "metadata": {
        "id": "zDBIhV7uHHfV",
        "outputId": "b41473a9-610a-4bfe-f023-ff4704595152",
        "colab": {
          "base_uri": "https://localhost:8080/"
        }
      },
      "outputs": [
        {
          "output_type": "stream",
          "name": "stdout",
          "text": [
            "nx= 101\n",
            "dx= 0.1\n",
            "dt= 0.05\n",
            "Number of iterations= 400.0\n"
          ]
        }
      ],
      "source": [
        "import numpy as np\n",
        "\n",
        "#define the speed a\n",
        "a=1.0\n",
        "\n",
        "# Define the domain\n",
        "L = 10.0     # Domain length\n",
        "nx = 101    # Number of grid points\n",
        "dx = L/(nx-1)   # Grid spacing\n",
        "x = np.linspace(0, L, nx)\n",
        "\n",
        "##print(x,'\\n',dx) #just a check\n",
        "\n",
        "# Define the time step and the final time\n",
        "cf = 0.5\n",
        "dt = cf*dx/a   # Time step\n",
        "t_final = 20.0 # It is T in my notebook\n",
        "\n",
        "print('nx=',nx)\n",
        "print('dx=',dx)\n",
        "print('dt=',dt)\n",
        "print('Number of iterations=',t_final/dt)\n",
        "\n",
        "\n",
        "# Define the initial condition\n",
        "x0=5\n",
        "u_initial = np.exp(-(x-x0)**2)\n",
        "\n",
        "# Initialize the solution array\n",
        "u_current = u_initial.copy()\n",
        "\n",
        "#we create arrays where we will store the time and the l2norm\n",
        "l2norm=[]\n",
        "# L_1-Norm\n",
        "l2norm.append(np.sqrt(np.sum(u_current**2)/len(u_current))) # len(u_current)= J in my notebook\n",
        "\n",
        "time=[]\n",
        "time.append(0.0)"
      ]
    },
    {
      "cell_type": "code",
      "execution_count": 7,
      "metadata": {
        "id": "Wkb5bQmKHHfW",
        "outputId": "fc003d55-4fd0-455d-ac65-466fd561f1b3",
        "colab": {
          "base_uri": "https://localhost:8080/",
          "height": 270
        }
      },
      "outputs": [
        {
          "output_type": "stream",
          "name": "stdout",
          "text": [
            "/content\n"
          ]
        },
        {
          "output_type": "error",
          "ename": "FileExistsError",
          "evalue": "[Errno 17] File exists: './images'",
          "traceback": [
            "\u001b[0;31m---------------------------------------------------------------------------\u001b[0m",
            "\u001b[0;31mFileExistsError\u001b[0m                           Traceback (most recent call last)",
            "\u001b[0;32m<ipython-input-7-f40e1c937128>\u001b[0m in \u001b[0;36m<cell line: 0>\u001b[0;34m()\u001b[0m\n\u001b[1;32m      4\u001b[0m \u001b[0mprint\u001b[0m\u001b[0;34m(\u001b[0m\u001b[0mos\u001b[0m\u001b[0;34m.\u001b[0m\u001b[0mgetcwd\u001b[0m\u001b[0;34m(\u001b[0m\u001b[0;34m)\u001b[0m\u001b[0;34m)\u001b[0m\u001b[0;34m\u001b[0m\u001b[0;34m\u001b[0m\u001b[0m\n\u001b[1;32m      5\u001b[0m \u001b[0;34m\u001b[0m\u001b[0m\n\u001b[0;32m----> 6\u001b[0;31m \u001b[0mos\u001b[0m\u001b[0;34m.\u001b[0m\u001b[0mmakedirs\u001b[0m\u001b[0;34m(\u001b[0m\u001b[0;34m'./images'\u001b[0m\u001b[0;34m)\u001b[0m\u001b[0;34m\u001b[0m\u001b[0;34m\u001b[0m\u001b[0m\n\u001b[0m\u001b[1;32m      7\u001b[0m \u001b[0;34m\u001b[0m\u001b[0m\n\u001b[1;32m      8\u001b[0m \u001b[0mos\u001b[0m\u001b[0;34m.\u001b[0m\u001b[0mlistdir\u001b[0m\u001b[0;34m(\u001b[0m\u001b[0;34m'./'\u001b[0m\u001b[0;34m)\u001b[0m\u001b[0;34m\u001b[0m\u001b[0;34m\u001b[0m\u001b[0m\n",
            "\u001b[0;32m/usr/lib/python3.11/os.py\u001b[0m in \u001b[0;36mmakedirs\u001b[0;34m(name, mode, exist_ok)\u001b[0m\n",
            "\u001b[0;31mFileExistsError\u001b[0m: [Errno 17] File exists: './images'"
          ]
        }
      ],
      "source": [
        "import matplotlib.pyplot as plt\n",
        "import os\n",
        "##create directory where to save images\n",
        "print(os.getcwd())\n",
        "\n",
        "os.makedirs('./images')\n",
        "\n",
        "os.listdir('./')"
      ]
    },
    {
      "cell_type": "code",
      "execution_count": null,
      "metadata": {
        "id": "87Art7xCHHfX"
      },
      "outputs": [],
      "source": [
        "# Initilize time and iteration counter\n",
        "t = 0.0\n",
        "i = 0\n",
        "\n",
        "#save the initial conditions\n",
        "plt.plot(x, u_current)\n",
        "plt.title('Time='+str(round(t,2)))\n",
        "plt.ylim(0,1.1)\n",
        "plt.savefig('./images/fig_'+str(i).zfill(5)+'.png', dpi=200)\n",
        "plt.close()\n",
        "\n",
        "#solve the advection equation\n",
        "while t < t_final:\n",
        "    # Compute the new solution using the FTCS method\n",
        "    # Note: np.roll(u_current, -1) is equivalent to u(j+1) and\n",
        "    #       np.roll(u_current,  1) is equivalent to u(j-1)\n",
        "    # using np.roll is equivalent to use periodic boundary conditions\n",
        "    u_next = u_current - a*dt/(2*dx)*(np.roll(u_current, -1) - np.roll(u_current, 1))\n",
        "\n",
        "    # Update the solution\n",
        "    u_current = u_next.copy()\n",
        "\n",
        "\n",
        "    #advance the time\n",
        "    t += dt\n",
        "    i += 1\n",
        "\n",
        "    #compute the l2 norm and add the time to the time vector\n",
        "    l2norm.append(np.sqrt(np.sum(u_current**2)/len(u_current)))\n",
        "    time.append(t)\n",
        "\n",
        "    #plot the current result and save in an image every 10 iterations\n",
        "    if (i%10==0):\n",
        "        plt.plot(x, u_current)\n",
        "        plt.title('Time='+str(round(t,2)))\n",
        "        plt.ylim(0,1.1)\n",
        "        plt.savefig('./images/fig_'+str(i).zfill(5)+'.png', dpi=200)\n",
        "        plt.close()\n"
      ]
    },
    {
      "cell_type": "code",
      "execution_count": null,
      "metadata": {
        "id": "ZDqrNwk_HHfX"
      },
      "outputs": [],
      "source": [
        "# Plot the final solution\n",
        "plt.plot(x, u_initial, label='Initial')\n",
        "plt.plot(x, u_current, label='Final')\n",
        "plt.title('Time='+str(round(t,2)))\n",
        "plt.ylim(0,1.1)\n",
        "plt.legend()\n",
        "plt.show()"
      ]
    },
    {
      "cell_type": "code",
      "execution_count": null,
      "metadata": {
        "id": "xYXxodFBHHfX"
      },
      "outputs": [],
      "source": [
        "# set the directory where your images are stored\n",
        "directory = \"./images/\"\n",
        "\n",
        "# get the list of image files in the directory\n",
        "files = os.listdir(directory)\n",
        "\n",
        "print(files, '\\n')\n",
        "\n",
        "# sort the files in alphanumeric order\n",
        "files=sorted(files)\n",
        "\n",
        "print(files)\n",
        "\n",
        "\n"
      ]
    },
    {
      "cell_type": "code",
      "execution_count": null,
      "metadata": {
        "id": "yzDRPdiIHHfX"
      },
      "outputs": [],
      "source": [
        "import imageio\n",
        "with imageio.get_writer('./movie.mp4', mode='I', quality=10) as writer:\n",
        "    for file in files:\n",
        "        image = imageio.imread('./images/'+file)\n",
        "        writer.append_data(image)\n",
        "\n",
        "files=[]\n"
      ]
    },
    {
      "cell_type": "code",
      "execution_count": null,
      "metadata": {
        "id": "K789RsCEHHfY"
      },
      "outputs": [],
      "source": [
        "# don't worry about the code in this cell, it is just to let you\n",
        "# display the movies you generated above in Jupyter notebook\n",
        "from IPython.display import HTML\n",
        "\n",
        "HTML(\"\"\"\n",
        "<div align=\"middle\">\n",
        "<video width=\"80%\" controls>\n",
        "      <source src=\"./movie.mp4\" type=\"video/mp4\">\n",
        "</video></div>\"\"\")"
      ]
    },
    {
      "cell_type": "code",
      "execution_count": null,
      "metadata": {
        "id": "KQiVD38iHHfY"
      },
      "outputs": [],
      "source": [
        "plt.plot(time,l2norm)\n",
        "plt.show()"
      ]
    },
    {
      "cell_type": "code",
      "execution_count": null,
      "metadata": {
        "id": "sWaa5rFOHHfY"
      },
      "outputs": [],
      "source": [
        "#Compare with data stored\n",
        "l2_saved=np.genfromtxt('./l2norm_FTCS.dat', comments='#')\n",
        "plt.plot(time,l2norm)\n",
        "plt.plot(l2_saved[:,0], l2_saved[:,1], '+')\n",
        "plt.show()"
      ]
    },
    {
      "cell_type": "code",
      "execution_count": null,
      "metadata": {
        "id": "z1W6aym6HHfY"
      },
      "outputs": [],
      "source": []
    }
  ],
  "metadata": {
    "kernelspec": {
      "display_name": "Python 3",
      "language": "python",
      "name": "python3"
    },
    "language_info": {
      "codemirror_mode": {
        "name": "ipython",
        "version": 3
      },
      "file_extension": ".py",
      "mimetype": "text/x-python",
      "name": "python",
      "nbconvert_exporter": "python",
      "pygments_lexer": "ipython3",
      "version": "3.8.3"
    },
    "colab": {
      "provenance": []
    }
  },
  "nbformat": 4,
  "nbformat_minor": 0
}