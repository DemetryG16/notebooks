{
  "cells": [
    {
      "cell_type": "markdown",
      "metadata": {
        "id": "TkvNFn8TQx5E"
      },
      "source": [
        "# Advection Equation\n",
        "\n",
        "Here we solve the advection equation $u_t + a u_x=0$ using as an initial condition a gaussian profile $u(x,t=0)=\\exp{[-(x-x_0)^2]}$ with $x_0=5$.\n",
        "\n",
        "We use a domain $x\\in [0,10]$ with periodic boundary conditions."
      ]
    },
    {
      "cell_type": "code",
      "execution_count": 1,
      "metadata": {
        "id": "_2e6f1elQx5G",
        "outputId": "838de9d0-c4b8-4405-b478-11ce4433510c",
        "colab": {
          "base_uri": "https://localhost:8080/"
        }
      },
      "outputs": [
        {
          "output_type": "stream",
          "name": "stdout",
          "text": [
            "nx= 101\n",
            "dx= 0.1\n",
            "dt= 0.05\n",
            "Number of iterations= 400.0\n"
          ]
        }
      ],
      "source": [
        "import numpy as np\n",
        "\n",
        "#define the speed a\n",
        "a=1.0\n",
        "\n",
        "# Define the domain\n",
        "L = 10.0     # Domain length\n",
        "nx = 101    # Number of grid points\n",
        "dx = L/(nx-1)   # Grid spacing\n",
        "x = np.linspace(0, L, nx)\n",
        "\n",
        "##print(x,'\\n',dx) #just a check\n",
        "\n",
        "# Define the time step and the final time\n",
        "cf = 0.5\n",
        "dt = cf*dx/a   # Time step\n",
        "t_final = 20.0\n",
        "\n",
        "print('nx=',nx)\n",
        "print('dx=',dx)\n",
        "print('dt=',dt)#saldjfljs\n",
        "print('Number of iterations=',t_final/dt)\n",
        "\n",
        "\n",
        "# Define the initial condition\n",
        "x0=5\n",
        "u_initial = np.exp(-(x-x0)**2)\n",
        "\n",
        "# Initialize the solution array\n",
        "u_current = u_initial.copy()\n",
        "\n",
        "#we create arrays where we will store the time and the l2norm\n",
        "l2norm=[]\n",
        "l2norm.append(np.sqrt(np.sum(u_current**2)/len(u_current)))\n",
        "\n",
        "time=[]\n",
        "time.append(0.0)"
      ]
    },
    {
      "cell_type": "code",
      "execution_count": 2,
      "metadata": {
        "id": "SwoaFLk8Qx5H",
        "outputId": "7af2b07d-1810-4c0b-983a-951f2df65739",
        "colab": {
          "base_uri": "https://localhost:8080/"
        }
      },
      "outputs": [
        {
          "output_type": "stream",
          "name": "stdout",
          "text": [
            "/content\n"
          ]
        },
        {
          "output_type": "execute_result",
          "data": {
            "text/plain": [
              "['.config', 'images', 'sample_data']"
            ]
          },
          "metadata": {},
          "execution_count": 2
        }
      ],
      "source": [
        "import matplotlib.pyplot as plt\n",
        "import os\n",
        "##create directory where to save images\n",
        "print(os.getcwd())\n",
        "\n",
        "os.makedirs('./images')\n",
        "\n",
        "os.listdir('./')"
      ]
    },
    {
      "cell_type": "code",
      "execution_count": 3,
      "metadata": {
        "id": "Z-Qu3YmxQx5H"
      },
      "outputs": [],
      "source": [
        "# Initilize time and iteration counter\n",
        "t = 0.0\n",
        "i = 0\n",
        "\n",
        "#save the initial conditions\n",
        "plt.plot(x, u_current)\n",
        "plt.title('Time='+str(round(t,2)))\n",
        "plt.ylim(0,1.1)\n",
        "plt.savefig('./images/fig_'+str(i).zfill(5)+'.png', dpi=200)\n",
        "plt.close()\n",
        "\n",
        "#solve the advection equation\n",
        "while t < t_final:\n",
        "    # Compute the new solution using the FTCS method\n",
        "    # Note: np.roll(u_current, -1) is equivalent to u(j+1) and\n",
        "    #       np.roll(u_current,  1) is equivalent to u(j-1)\n",
        "    # using np.roll is equivalent to use periodic boundary conditions\n",
        "    u_next = u_current - a*dt/(2*dx)*(np.roll(u_current, -1) - np.roll(u_current, 1))\n",
        "\n",
        "    # Update the solution\n",
        "    u_current = u_next.copy()\n",
        "\n",
        "\n",
        "    #advance the time\n",
        "    t += dt\n",
        "    i += 1\n",
        "\n",
        "    #compute the l2 norm and add the time to the time vector\n",
        "    l2norm.append(np.sqrt(np.sum(u_current**2)/len(u_current)))\n",
        "    time.append(t)\n",
        "\n",
        "    #plot the current result and save in an image every 10 iterations\n",
        "    if (i%10==0):\n",
        "        plt.plot(x, u_current)\n",
        "        plt.title('Time='+str(round(t,2)))\n",
        "        plt.ylim(0,1.1)\n",
        "        plt.savefig('./images/fig_'+str(i).zfill(5)+'.png', dpi=200)\n",
        "        plt.close()\n"
      ]
    },
    {
      "cell_type": "code",
      "execution_count": 4,
      "metadata": {
        "id": "M9ALRX4pQx5I",
        "outputId": "ade4c659-2940-4286-c399-7d05259512ee",
        "colab": {
          "base_uri": "https://localhost:8080/",
          "height": 452
        }
      },
      "outputs": [
        {
          "output_type": "display_data",
          "data": {
            "text/plain": [
              "<Figure size 640x480 with 1 Axes>"
            ],
            "image/png": "[encoded data removed]"
          },
          "metadata": {}
        }
      ],
      "source": [
        "# Plot the final solution\n",
        "plt.plot(x, u_initial, label='Initial')\n",
        "plt.plot(x, u_current, label='Final')\n",
        "plt.title('Time='+str(round(t,2)))\n",
        "plt.ylim(0,1.1)\n",
        "plt.legend()\n",
        "plt.show()"
      ]
    },
    {
      "cell_type": "code",
      "execution_count": 5,
      "metadata": {
        "id": "ma19He4_Qx5I",
        "outputId": "73898a7d-dbab-45ec-eb28-ce68462e12b2",
        "colab": {
          "base_uri": "https://localhost:8080/"
        }
      },
      "outputs": [
        {
          "output_type": "stream",
          "name": "stdout",
          "text": [
            "['fig_00150.png', 'fig_00100.png', 'fig_00180.png', 'fig_00080.png', 'fig_00020.png', 'fig_00340.png', 'fig_00230.png', 'fig_00000.png', 'fig_00210.png', 'fig_00160.png', 'fig_00140.png', 'fig_00240.png', 'fig_00280.png', 'fig_00380.png', 'fig_00290.png', 'fig_00310.png', 'fig_00390.png', 'fig_00270.png', 'fig_00120.png', 'fig_00070.png', 'fig_00330.png', 'fig_00190.png', 'fig_00360.png', 'fig_00200.png', 'fig_00110.png', 'fig_00250.png', 'fig_00400.png', 'fig_00010.png', 'fig_00220.png', 'fig_00300.png', 'fig_00350.png', 'fig_00050.png', 'fig_00060.png', 'fig_00320.png', 'fig_00170.png', 'fig_00260.png', 'fig_00130.png', 'fig_00030.png', 'fig_00090.png', 'fig_00370.png', 'fig_00040.png'] \n",
            "\n",
            "['fig_00000.png', 'fig_00010.png', 'fig_00020.png', 'fig_00030.png', 'fig_00040.png', 'fig_00050.png', 'fig_00060.png', 'fig_00070.png', 'fig_00080.png', 'fig_00090.png', 'fig_00100.png', 'fig_00110.png', 'fig_00120.png', 'fig_00130.png', 'fig_00140.png', 'fig_00150.png', 'fig_00160.png', 'fig_00170.png', 'fig_00180.png', 'fig_00190.png', 'fig_00200.png', 'fig_00210.png', 'fig_00220.png', 'fig_00230.png', 'fig_00240.png', 'fig_00250.png', 'fig_00260.png', 'fig_00270.png', 'fig_00280.png', 'fig_00290.png', 'fig_00300.png', 'fig_00310.png', 'fig_00320.png', 'fig_00330.png', 'fig_00340.png', 'fig_00350.png', 'fig_00360.png', 'fig_00370.png', 'fig_00380.png', 'fig_00390.png', 'fig_00400.png']\n"
          ]
        }
      ],
      "source": [
        "# set the directory where your images are stored\n",
        "directory = \"./images/\"\n",
        "\n",
        "# get the list of image files in the directory\n",
        "files = os.listdir(directory)\n",
        "\n",
        "print(files, '\\n')\n",
        "\n",
        "# sort the files in alphanumeric order\n",
        "files=sorted(files)\n",
        "\n",
        "print(files)\n",
        "\n",
        "\n"
      ]
    },
    {
      "cell_type": "code",
      "execution_count": 6,
      "metadata": {
        "id": "QlQqvGmaQx5I",
        "outputId": "1f83d10b-ff7a-4b06-d841-2f9e772ecd2e",
        "colab": {
          "base_uri": "https://localhost:8080/"
        }
      },
      "outputs": [
        {
          "output_type": "stream",
          "name": "stderr",
          "text": [
            "<ipython-input-6-c032de202fec>:4: DeprecationWarning: Starting with ImageIO v3 the behavior of this function will switch to that of iio.v3.imread. To keep the current behavior (and make this warning disappear) use `import imageio.v2 as imageio` or call `imageio.v2.imread` directly.\n",
            "  image = imageio.imread('./images/'+file)\n"
          ]
        }
      ],
      "source": [
        "import imageio\n",
        "with imageio.get_writer('./movie.mp4', mode='I', quality=10) as writer:\n",
        "    for file in files:\n",
        "        image = imageio.imread('./images/'+file)\n",
        "        writer.append_data(image)\n",
        "\n",
        "files=[]\n"
      ]
    },
    {
      "cell_type": "code",
      "execution_count": 7,
      "metadata": {
        "id": "ZUnaLOnhQx5I",
        "outputId": "fa345624-3bb8-497f-b628-fb811f11c4cf",
        "colab": {
          "resources": {
            "http://localhost:8080/movie.mp4": {
              "data": "",
              "ok": false,
              "headers": [
                [
                  "content-length",
                  "0"
                ]
              ],
              "status": 404,
              "status_text": ""
            }
          },
          "base_uri": "https://localhost:8080/",
          "height": 518
        }
      },
      "outputs": [
        {
          "output_type": "execute_result",
          "data": {
            "text/plain": [
              "<IPython.core.display.HTML object>"
            ],
            "text/html": [
              "\n",
              "<div align=\"middle\">\n",
              "<video width=\"80%\" controls>\n",
              "      <source src=\"./movie.mp4\" type=\"video/mp4\">\n",
              "</video></div>"
            ]
          },
          "metadata": {},
          "execution_count": 7
        }
      ],
      "source": [
        "# don't worry about the code in this cell, it is just to let you\n",
        "# display the movies you generated above in Jupyter notebook\n",
        "from IPython.display import HTML\n",
        "\n",
        "HTML(\"\"\"\n",
        "<div align=\"middle\">\n",
        "<video width=\"80%\" controls>\n",
        "      <source src=\"./movie.mp4\" type=\"video/mp4\">\n",
        "</video></div>\"\"\")"
      ]
    },
    {
      "cell_type": "code",
      "execution_count": 8,
      "metadata": {
        "id": "Av2Ug1d1Qx5J",
        "outputId": "25ae987f-7647-40ff-a835-be7232253696",
        "colab": {
          "base_uri": "https://localhost:8080/",
          "height": 445
        }
      },
      "outputs": [
        {
          "output_type": "display_data",
          "data": {
            "text/plain": [
              "<Figure size 640x480 with 1 Axes>"
            ],
            "image/png": "[encoded data removed]"
          },
          "metadata": {}
        }
      ],
      "source": [
        "plt.plot(time,l2norm)\n",
        "plt.show()"
      ]
    },
    {
      "cell_type": "code",
      "execution_count": 9,
      "metadata": {
        "id": "Ak7aewcsQx5J",
        "outputId": "041db0e0-15f4-481a-ccb3-beea0c63602c",
        "colab": {
          "base_uri": "https://localhost:8080/",
          "height": 365
        }
      },
      "outputs": [
        {
          "output_type": "error",
          "ename": "FileNotFoundError",
          "evalue": "./l2norm_FTCS.dat not found.",
          "traceback": [
            "\u001b[0;31m---------------------------------------------------------------------------\u001b[0m",
            "\u001b[0;31mFileNotFoundError\u001b[0m                         Traceback (most recent call last)",
            "\u001b[0;32m<ipython-input-9-c1280e162425>\u001b[0m in \u001b[0;36m<cell line: 0>\u001b[0;34m()\u001b[0m\n\u001b[1;32m      1\u001b[0m \u001b[0;31m#Compare with data stored\u001b[0m\u001b[0;34m\u001b[0m\u001b[0;34m\u001b[0m\u001b[0m\n\u001b[0;32m----> 2\u001b[0;31m \u001b[0ml2_saved\u001b[0m\u001b[0;34m=\u001b[0m\u001b[0mnp\u001b[0m\u001b[0;34m.\u001b[0m\u001b[0mgenfromtxt\u001b[0m\u001b[0;34m(\u001b[0m\u001b[0;34m'./l2norm_FTCS.dat'\u001b[0m\u001b[0;34m,\u001b[0m \u001b[0mcomments\u001b[0m\u001b[0;34m=\u001b[0m\u001b[0;34m'#'\u001b[0m\u001b[0;34m)\u001b[0m\u001b[0;34m\u001b[0m\u001b[0;34m\u001b[0m\u001b[0m\n\u001b[0m\u001b[1;32m      3\u001b[0m \u001b[0mplt\u001b[0m\u001b[0;34m.\u001b[0m\u001b[0mplot\u001b[0m\u001b[0;34m(\u001b[0m\u001b[0mtime\u001b[0m\u001b[0;34m,\u001b[0m\u001b[0ml2norm\u001b[0m\u001b[0;34m)\u001b[0m\u001b[0;34m\u001b[0m\u001b[0;34m\u001b[0m\u001b[0m\n\u001b[1;32m      4\u001b[0m \u001b[0mplt\u001b[0m\u001b[0;34m.\u001b[0m\u001b[0mplot\u001b[0m\u001b[0;34m(\u001b[0m\u001b[0ml2_saved\u001b[0m\u001b[0;34m[\u001b[0m\u001b[0;34m:\u001b[0m\u001b[0;34m,\u001b[0m\u001b[0;36m0\u001b[0m\u001b[0;34m]\u001b[0m\u001b[0;34m,\u001b[0m \u001b[0ml2_saved\u001b[0m\u001b[0;34m[\u001b[0m\u001b[0;34m:\u001b[0m\u001b[0;34m,\u001b[0m\u001b[0;36m1\u001b[0m\u001b[0;34m]\u001b[0m\u001b[0;34m,\u001b[0m \u001b[0;34m'+'\u001b[0m\u001b[0;34m)\u001b[0m\u001b[0;34m\u001b[0m\u001b[0;34m\u001b[0m\u001b[0m\n\u001b[1;32m      5\u001b[0m \u001b[0mplt\u001b[0m\u001b[0;34m.\u001b[0m\u001b[0mshow\u001b[0m\u001b[0;34m(\u001b[0m\u001b[0;34m)\u001b[0m\u001b[0;34m\u001b[0m\u001b[0;34m\u001b[0m\u001b[0m\n",
            "\u001b[0;32m/usr/local/lib/python3.11/dist-packages/numpy/lib/_npyio_impl.py\u001b[0m in \u001b[0;36mgenfromtxt\u001b[0;34m(fname, dtype, comments, delimiter, skip_header, skip_footer, converters, missing_values, filling_values, usecols, names, excludelist, deletechars, replace_space, autostrip, case_sensitive, defaultfmt, unpack, usemask, loose, invalid_raise, max_rows, encoding, ndmin, like)\u001b[0m\n\u001b[1;32m   1987\u001b[0m         \u001b[0mfname\u001b[0m \u001b[0;34m=\u001b[0m \u001b[0mos\u001b[0m\u001b[0;34m.\u001b[0m\u001b[0mfspath\u001b[0m\u001b[0;34m(\u001b[0m\u001b[0mfname\u001b[0m\u001b[0;34m)\u001b[0m\u001b[0;34m\u001b[0m\u001b[0;34m\u001b[0m\u001b[0m\n\u001b[1;32m   1988\u001b[0m     \u001b[0;32mif\u001b[0m \u001b[0misinstance\u001b[0m\u001b[0;34m(\u001b[0m\u001b[0mfname\u001b[0m\u001b[0;34m,\u001b[0m \u001b[0mstr\u001b[0m\u001b[0;34m)\u001b[0m\u001b[0;34m:\u001b[0m\u001b[0;34m\u001b[0m\u001b[0;34m\u001b[0m\u001b[0m\n\u001b[0;32m-> 1989\u001b[0;31m         \u001b[0mfid\u001b[0m \u001b[0;34m=\u001b[0m \u001b[0mnp\u001b[0m\u001b[0;34m.\u001b[0m\u001b[0mlib\u001b[0m\u001b[0;34m.\u001b[0m\u001b[0m_datasource\u001b[0m\u001b[0;34m.\u001b[0m\u001b[0mopen\u001b[0m\u001b[0;34m(\u001b[0m\u001b[0mfname\u001b[0m\u001b[0;34m,\u001b[0m \u001b[0;34m'rt'\u001b[0m\u001b[0;34m,\u001b[0m \u001b[0mencoding\u001b[0m\u001b[0;34m=\u001b[0m\u001b[0mencoding\u001b[0m\u001b[0;34m)\u001b[0m\u001b[0;34m\u001b[0m\u001b[0;34m\u001b[0m\u001b[0m\n\u001b[0m\u001b[1;32m   1990\u001b[0m         \u001b[0mfid_ctx\u001b[0m \u001b[0;34m=\u001b[0m \u001b[0mcontextlib\u001b[0m\u001b[0;34m.\u001b[0m\u001b[0mclosing\u001b[0m\u001b[0;34m(\u001b[0m\u001b[0mfid\u001b[0m\u001b[0;34m)\u001b[0m\u001b[0;34m\u001b[0m\u001b[0;34m\u001b[0m\u001b[0m\n\u001b[1;32m   1991\u001b[0m     \u001b[0;32melse\u001b[0m\u001b[0;34m:\u001b[0m\u001b[0;34m\u001b[0m\u001b[0;34m\u001b[0m\u001b[0m\n",
            "\u001b[0;32m/usr/local/lib/python3.11/dist-packages/numpy/lib/_datasource.py\u001b[0m in \u001b[0;36mopen\u001b[0;34m(path, mode, destpath, encoding, newline)\u001b[0m\n\u001b[1;32m    190\u001b[0m \u001b[0;34m\u001b[0m\u001b[0m\n\u001b[1;32m    191\u001b[0m     \u001b[0mds\u001b[0m \u001b[0;34m=\u001b[0m \u001b[0mDataSource\u001b[0m\u001b[0;34m(\u001b[0m\u001b[0mdestpath\u001b[0m\u001b[0;34m)\u001b[0m\u001b[0;34m\u001b[0m\u001b[0;34m\u001b[0m\u001b[0m\n\u001b[0;32m--> 192\u001b[0;31m     \u001b[0;32mreturn\u001b[0m \u001b[0mds\u001b[0m\u001b[0;34m.\u001b[0m\u001b[0mopen\u001b[0m\u001b[0;34m(\u001b[0m\u001b[0mpath\u001b[0m\u001b[0;34m,\u001b[0m \u001b[0mmode\u001b[0m\u001b[0;34m,\u001b[0m \u001b[0mencoding\u001b[0m\u001b[0;34m=\u001b[0m\u001b[0mencoding\u001b[0m\u001b[0;34m,\u001b[0m \u001b[0mnewline\u001b[0m\u001b[0;34m=\u001b[0m\u001b[0mnewline\u001b[0m\u001b[0;34m)\u001b[0m\u001b[0;34m\u001b[0m\u001b[0;34m\u001b[0m\u001b[0m\n\u001b[0m\u001b[1;32m    193\u001b[0m \u001b[0;34m\u001b[0m\u001b[0m\n\u001b[1;32m    194\u001b[0m \u001b[0;34m\u001b[0m\u001b[0m\n",
            "\u001b[0;32m/usr/local/lib/python3.11/dist-packages/numpy/lib/_datasource.py\u001b[0m in \u001b[0;36mopen\u001b[0;34m(self, path, mode, encoding, newline)\u001b[0m\n\u001b[1;32m    530\u001b[0m                                       encoding=encoding, newline=newline)\n\u001b[1;32m    531\u001b[0m         \u001b[0;32melse\u001b[0m\u001b[0;34m:\u001b[0m\u001b[0;34m\u001b[0m\u001b[0;34m\u001b[0m\u001b[0m\n\u001b[0;32m--> 532\u001b[0;31m             \u001b[0;32mraise\u001b[0m \u001b[0mFileNotFoundError\u001b[0m\u001b[0;34m(\u001b[0m\u001b[0;34mf\"{path} not found.\"\u001b[0m\u001b[0;34m)\u001b[0m\u001b[0;34m\u001b[0m\u001b[0;34m\u001b[0m\u001b[0m\n\u001b[0m\u001b[1;32m    533\u001b[0m \u001b[0;34m\u001b[0m\u001b[0m\n\u001b[1;32m    534\u001b[0m \u001b[0;34m\u001b[0m\u001b[0m\n",
            "\u001b[0;31mFileNotFoundError\u001b[0m: ./l2norm_FTCS.dat not found."
          ]
        }
      ],
      "source": [
        "#Compare with data stored\n",
        "l2_saved=np.genfromtxt('./l2norm_FTCS.dat', comments='#')\n",
        "plt.plot(time,l2norm)\n",
        "plt.plot(l2_saved[:,0], l2_saved[:,1], '+')\n",
        "plt.show()"
      ]
    },
    {
      "cell_type": "code",
      "execution_count": null,
      "metadata": {
        "id": "tF_KmaKdQx5J"
      },
      "outputs": [],
      "source": []
    }
  ],
  "metadata": {
    "kernelspec": {
      "display_name": "Python 3",
      "language": "python",
      "name": "python3"
    },
    "language_info": {
      "codemirror_mode": {
        "name": "ipython",
        "version": 3
      },
      "file_extension": ".py",
      "mimetype": "text/x-python",
      "name": "python",
      "nbconvert_exporter": "python",
      "pygments_lexer": "ipython3",
      "version": "3.8.3"
    },
    "colab": {
      "provenance": []
    }
  },
  "nbformat": 4,
  "nbformat_minor": 0
}