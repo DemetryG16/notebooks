{
  "cells": [
    {
      "cell_type": "markdown",
      "metadata": {
        "id": "86Ndi1yWIh0S"
      },
      "source": [
        "# Advection Equation\n",
        "\n",
        "Here we solve the advection equation $u_t + a u_x=0$ using as an initial condition a gaussian profile $u(x,t=0)=\\exp{[-(x-x_0)^2]}$ with $x_0=5$.\n",
        "\n",
        "We use a domain $x\\in [0,10]$ with periodic boundary conditions."
      ]
    },
    {
      "cell_type": "code",
      "execution_count": 29,
      "metadata": {
        "colab": {
          "base_uri": "https://localhost:8080/"
        },
        "id": "rmp6QrgHIh0T",
        "outputId": "155f7a31-fd24-41fb-b6ae-6b3e26f1d5d3"
      },
      "outputs": [
        {
          "output_type": "stream",
          "name": "stdout",
          "text": [
            "nx= 101\n",
            "dx= 0.1\n",
            "dt= 0.05\n",
            "Number of iterations= 400.0\n"
          ]
        }
      ],
      "source": [
        "import numpy as np\n",
        "\n",
        "#define the speed a\n",
        "a=1.0\n",
        "\n",
        "# Define the domain\n",
        "L = 10.0     # Domain length\n",
        "nx = 101    # Number of grid points\n",
        "dx = L/(nx-1)   # Grid spacing\n",
        "x = np.linspace(0, L, nx)\n",
        "\n",
        "##print(x,'\\n',dx) #just a check\n",
        "\n",
        "# Define the time step and the final time\n",
        "cf = 0.5\n",
        "dt = cf*dx/a   # Time step\n",
        "t_final = 20.0\n",
        "\n",
        "print('nx=',nx)\n",
        "print('dx=',dx)\n",
        "print('dt=',dt)\n",
        "print('Number of iterations=',t_final/dt)\n",
        "\n",
        "\n",
        "# Define the initial condition\n",
        "x0=5\n",
        "u_initial = np.exp(-(x-x0)**2)\n",
        "\n",
        "# Initialize the solution array\n",
        "u_current = u_initial.copy()\n",
        "\n",
        "#we create arrays where we will store the time and the l2norm\n",
        "l2norm=[]\n",
        "l2norm.append(np.sqrt(np.sum(u_current**2)/len(u_current)))\n",
        "\n",
        "time=[]\n",
        "time.append(0.0)\n"
      ]
    },
    {
      "cell_type": "code",
      "execution_count": 28,
      "metadata": {
        "colab": {
          "base_uri": "https://localhost:8080/"
        },
        "id": "Px1VZs4jIh0U",
        "outputId": "f94a5299-667e-4e66-faae-eca4567e8400"
      },
      "outputs": [
        {
          "output_type": "stream",
          "name": "stdout",
          "text": [
            "/content\n"
          ]
        },
        {
          "output_type": "execute_result",
          "data": {
            "text/plain": [
              "['2025.04.03']"
            ]
          },
          "metadata": {},
          "execution_count": 28
        }
      ],
      "source": [
        "import matplotlib.pyplot as plt\n",
        "import os\n",
        "##create directory where to save images\n",
        "print(os.getcwd())\n",
        "\n",
        "# os.makedirs('./images') # makedirs create a new directory in the operating system.. !!This function would not work now because we have created the images file before and it will give an error if we run the same name\n",
        "\n",
        "os.listdir('./')"
      ]
    },
    {
      "cell_type": "code",
      "execution_count": 35,
      "metadata": {
        "id": "BxpOl4WpIh0U"
      },
      "outputs": [],
      "source": [
        "# Initilize time and iteration counter\n",
        "t = 0.0\n",
        "i = 0\n",
        "\n",
        "#save the initial conditions\n",
        "plt.plot(x, u_current)\n",
        "plt.title('Time='+str(round(t,2)))\n",
        "plt.ylim(0,1.1)\n",
        "plt.savefig('./images/fig_'+str(i).zfill(5)+'.png', dpi=200)\n",
        "plt.close()\n",
        "\n",
        "#solve the advection equation\n",
        "while t < t_final:\n",
        "    # Compute the new solution using the FTCS method\n",
        "    # Note: np.roll(u_current, -1) is equivalent to u(j+1) and\n",
        "    #       np.roll(u_current,  1) is equivalent to u(j-1)\n",
        "    # using np.roll is equivalent to use periodic boundary conditions\n",
        "    u_next = u_current - a*dt/(2*dx)*(np.roll(u_current, -1) - np.roll(u_current, 1))\n",
        "\n",
        "    # Update the solution\n",
        "    u_current = u_next.copy()\n",
        "\n",
        "\n",
        "    #advance the time\n",
        "    t += dt\n",
        "    i += 1\n",
        "\n",
        "    #compute the l2 norm and add the time to the time vector\n",
        "    l2norm.append(np.sqrt(np.sum(u_current**2)/len(u_current)))\n",
        "    time.append(t)\n",
        "\n",
        "    #plot the current result and save in an image every 10 iterations\n",
        "    if (i%10==0):\n",
        "        plt.plot(x, u_current)\n",
        "        plt.title('Time='+str(round(t,2)))\n",
        "        plt.ylim(0,1.1)\n",
        "        plt.savefig('./images/fig_'+str(i).zfill(5)+'.png', dpi=200)\n",
        "        plt.close()\n"
      ]
    },
    {
      "cell_type": "code",
      "execution_count": 16,
      "metadata": {
        "colab": {
          "base_uri": "https://localhost:8080/",
          "height": 452
        },
        "id": "xe-hHio_Ih0U",
        "outputId": "1406899a-7cb1-427a-9f4c-1c6f19f03e28"
      },
      "outputs": [
        {
          "output_type": "display_data",
          "data": {
            "text/plain": [
              "<Figure size 640x480 with 1 Axes>"
            ],
            "image/png": "[encoded data removed]"
          },
          "metadata": {}
        }
      ],
      "source": [
        "# Plot the final solution\n",
        "plt.plot(x, u_initial, label='Initial')\n",
        "plt.plot(x, u_current, label='Final')\n",
        "plt.title('Time='+str(round(t,2)))\n",
        "plt.ylim(0,1.1)\n",
        "plt.legend()\n",
        "plt.show()"
      ]
    },
    {
      "cell_type": "code",
      "execution_count": 17,
      "metadata": {
        "colab": {
          "base_uri": "https://localhost:8080/"
        },
        "id": "PZMdQH1WIh0U",
        "outputId": "424ccd52-ad1e-4e67-9f94-c05940147ff8"
      },
      "outputs": [
        {
          "output_type": "stream",
          "name": "stdout",
          "text": [
            "['fig_00150.png', 'fig_00100.png', 'fig_00180.png', 'fig_00080.png', 'fig_00020.png', 'fig_00340.png', 'fig_00230.png', 'fig_00000.png', 'fig_00210.png', 'fig_00160.png', 'fig_00140.png', 'fig_00240.png', 'fig_00280.png', 'fig_00380.png', 'fig_00290.png', 'fig_00310.png', 'fig_00390.png', 'fig_00270.png', 'fig_00120.png', 'fig_00070.png', 'fig_00330.png', 'fig_00190.png', 'fig_00360.png', 'fig_00200.png', 'fig_00110.png', 'fig_00250.png', 'fig_00400.png', 'fig_00010.png', 'fig_00220.png', 'fig_00300.png', 'fig_00350.png', 'fig_00050.png', 'fig_00060.png', 'fig_00320.png', 'fig_00170.png', 'fig_00260.png', 'fig_00130.png', 'fig_00030.png', 'fig_00090.png', 'fig_00370.png', 'fig_00040.png'] \n",
            "\n",
            "['fig_00000.png', 'fig_00010.png', 'fig_00020.png', 'fig_00030.png', 'fig_00040.png', 'fig_00050.png', 'fig_00060.png', 'fig_00070.png', 'fig_00080.png', 'fig_00090.png', 'fig_00100.png', 'fig_00110.png', 'fig_00120.png', 'fig_00130.png', 'fig_00140.png', 'fig_00150.png', 'fig_00160.png', 'fig_00170.png', 'fig_00180.png', 'fig_00190.png', 'fig_00200.png', 'fig_00210.png', 'fig_00220.png', 'fig_00230.png', 'fig_00240.png', 'fig_00250.png', 'fig_00260.png', 'fig_00270.png', 'fig_00280.png', 'fig_00290.png', 'fig_00300.png', 'fig_00310.png', 'fig_00320.png', 'fig_00330.png', 'fig_00340.png', 'fig_00350.png', 'fig_00360.png', 'fig_00370.png', 'fig_00380.png', 'fig_00390.png', 'fig_00400.png']\n"
          ]
        }
      ],
      "source": [
        "# set the directory where your images are stored\n",
        "directory = \"./images/\"\n",
        "\n",
        "# get the list of image files in the directory\n",
        "files = os.listdir(directory)\n",
        "\n",
        "print(files, '\\n')\n",
        "\n",
        "# sort the files in alphanumeric order\n",
        "files=sorted(files)\n",
        "\n",
        "print(files)\n",
        "\n",
        "\n"
      ]
    },
    {
      "cell_type": "code",
      "execution_count": 30,
      "metadata": {
        "colab": {
          "base_uri": "https://localhost:8080/"
        },
        "id": "koLifhtPIh0U",
        "outputId": "906028a4-be77-42cd-f302-9f32702a15bc"
      },
      "outputs": [
        {
          "output_type": "stream",
          "name": "stderr",
          "text": [
            "<ipython-input-30-c032de202fec>:4: DeprecationWarning: Starting with ImageIO v3 the behavior of this function will switch to that of iio.v3.imread. To keep the current behavior (and make this warning disappear) use `import imageio.v2 as imageio` or call `imageio.v2.imread` directly.\n",
            "  image = imageio.imread('./images/'+file)\n"
          ]
        }
      ],
      "source": [
        "import imageio\n",
        "with imageio.get_writer('./movie.mp4', mode='I', quality=10) as writer:\n",
        "    for file in files:\n",
        "        image = imageio.imread('./images/'+file)\n",
        "        writer.append_data(image)\n",
        "\n",
        "files=[]\n"
      ]
    },
    {
      "cell_type": "code",
      "execution_count": 31,
      "metadata": {
        "colab": {
          "resources": {
            "http://localhost:8080/movie.mp4": {
              "data": "",
              "ok": false,
              "headers": [
                [
                  "content-length",
                  "0"
                ]
              ],
              "status": 404,
              "status_text": ""
            }
          },
          "base_uri": "https://localhost:8080/",
          "height": 518
        },
        "id": "WQM2GYKoIh0U",
        "outputId": "1b3a73a1-c82b-44d4-828e-c2f2b0d9ee1e"
      },
      "outputs": [
        {
          "output_type": "execute_result",
          "data": {
            "text/plain": [
              "<IPython.core.display.HTML object>"
            ],
            "text/html": [
              "\n",
              "<div align=\"middle\">\n",
              "<video width=\"80%\" controls>\n",
              "      <source src=\"./movie.mp4\" type=\"video/mp4\">\n",
              "</video></div>"
            ]
          },
          "metadata": {},
          "execution_count": 31
        }
      ],
      "source": [
        "# don't worry about the code in this cell, it is just to let you\n",
        "# display the movies you generated above in Jupyter notebook\n",
        "from IPython.display import HTML\n",
        "\n",
        "HTML(\"\"\"\n",
        "<div align=\"middle\">\n",
        "<video width=\"80%\" controls>\n",
        "      <source src=\"./movie.mp4\" type=\"video/mp4\">\n",
        "</video></div>\"\"\")"
      ]
    },
    {
      "cell_type": "code",
      "execution_count": 36,
      "metadata": {
        "colab": {
          "base_uri": "https://localhost:8080/",
          "height": 445
        },
        "id": "6d0hkqnSIh0U",
        "outputId": "910a06a1-7227-490e-e4a1-4d65ee432851"
      },
      "outputs": [
        {
          "output_type": "display_data",
          "data": {
            "text/plain": [
              "<Figure size 640x480 with 1 Axes>"
            ],
            "image/png": "[encoded data removed]"
          },
          "metadata": {}
        }
      ],
      "source": [
        "plt.plot(time,l2norm)\n",
        "plt.show()"
      ]
    },
    {
      "cell_type": "code",
      "execution_count": 34,
      "metadata": {
        "colab": {
          "base_uri": "https://localhost:8080/",
          "height": 430
        },
        "id": "tEacnEa-Ih0U",
        "outputId": "347c9b44-8394-49fd-9cfd-6ff5284c1f2c"
      },
      "outputs": [
        {
          "output_type": "display_data",
          "data": {
            "text/plain": [
              "<Figure size 640x480 with 1 Axes>"
            ],
            "image/png": "[encoded data removed]"
          },
          "metadata": {}
        }
      ],
      "source": [
        "#Compare with data stored\n",
        "l2_saved=np.genfromtxt('./l2norm_FTCS.dat', comments='#')\n",
        "plt.plot(time,l2norm)\n",
        "plt.plot(l2_saved[:,0], l2_saved[:,1], '+')\n",
        "plt.show()"
      ]
    },
    {
      "cell_type": "code",
      "execution_count": null,
      "metadata": {
        "id": "240_08hPIh0V"
      },
      "outputs": [],
      "source": []
    }
  ],
  "metadata": {
    "kernelspec": {
      "display_name": "Python 3",
      "language": "python",
      "name": "python3"
    },
    "language_info": {
      "codemirror_mode": {
        "name": "ipython",
        "version": 3
      },
      "file_extension": ".py",
      "mimetype": "text/x-python",
      "name": "python",
      "nbconvert_exporter": "python",
      "pygments_lexer": "ipython3",
      "version": "3.8.3"
    },
    "colab": {
      "provenance": []
    }
  },
  "nbformat": 4,
  "nbformat_minor": 0
}