{
 "cells": [
  {
   "cell_type": "markdown",
   "metadata": {},
   "source": [
    "In a Neutron Star (NS) the rest-mass density $\\rho$ is related to the neutron number denisty $n$ via $\\rho=m_n n_n$, where $m_n$ is the rest mass of a neutron (we are assuming the NS to be composed only of neutrons).\n",
    "Let's then compute the value of $n_n$ assuming the NS having a mean density of $10^{14}$ g cm$^{-3}$:"
   ]
  },
  {
   "cell_type": "code",
   "execution_count": 1,
   "metadata": {},
   "outputs": [
    {
     "name": "stdout",
     "output_type": "stream",
     "text": [
      "5.9880239520958085e+37\n"
     ]
    }
   ],
   "source": [
    "mn=1.67e-24\n",
    "rho=1.0e14\n",
    "n=rho/mn\n",
    "print(n)"
   ]
  },
  {
   "cell_type": "markdown",
   "metadata": {},
   "source": [
    "We also know that\n",
    "$n_n=\\int_0^{p_F}\\frac{8\\pi}{h^3}p^2dp=\\frac{8\\pi}{3h^3}p_F^3$\n",
    "where $p_F$ is the Fermi momentum and $h$ the Planck's constant.\n",
    "Therefore from the neutron number density we can compute the Fermi momentum $p_F=\\frac{h}{2}\\left (\\frac{3 n_n}{\\pi}\\right)^{1/3}$"
   ]
  },
  {
   "cell_type": "code",
   "execution_count": 2,
   "metadata": {},
   "outputs": [
    {
     "name": "stdout",
     "output_type": "stream",
     "text": [
      "1.2771301853598721e-14\n"
     ]
    }
   ],
   "source": [
    "import math\n",
    "h=6.63e-27\n",
    "pf=0.5*h*(3*n/math.pi)**(1.0/3.0)\n",
    "print(pf)"
   ]
  },
  {
   "cell_type": "markdown",
   "metadata": {},
   "source": [
    "Now that we have computed the Fermi momentum, we can compute the Fermi energy $E_F$ for a typical NS,\n",
    "$E_F=\\left( p_F^2 c^2 + m_n^2 c^4\\right)^{1/2}$, where $c$ the speed of light in vacuum."
   ]
  },
  {
   "cell_type": "code",
   "execution_count": 3,
   "metadata": {},
   "outputs": [
    {
     "name": "stdout",
     "output_type": "stream",
     "text": [
      "0.0015510656130325888\n",
      "968.3024603160046\n"
     ]
    }
   ],
   "source": [
    "c=3.0e10\n",
    "Ef=math.sqrt(pf**2 * c**2 + mn**2 * c**4)\n",
    "print(Ef) #this is in erg\n",
    "print(Ef/1.60184e-6) #we print this also in MeV, where 1MeV = 1.60184e-6 erg (remember that mn*c^2 is ~940 MeV)"
   ]
  },
  {
   "cell_type": "markdown",
   "metadata": {},
   "source": [
    "Now that we got the Fermi energy we can plot the Fermi-Dirac distribution for different values of the temperature and check if a step function is a good approximation. The Fermi-Dirac distribution is $f(E)=\\frac{1}{{\\rm exp}\\left(\\frac{E-E_F}{k_bT}\\right)+1}$"
   ]
  },
  {
   "cell_type": "code",
   "execution_count": 4,
   "metadata": {},
   "outputs": [
    {
     "name": "stderr",
     "output_type": "stream",
     "text": [
      "<ipython-input-4-59a6d664d46c>:5: RuntimeWarning: overflow encountered in exp\n",
      "  f=1.0/(np.exp((energy-Ef)/(kb*T))+1.0)\n"
     ]
    }
   ],
   "source": [
    "import numpy as np\n",
    "kb=1.38e-16 #Boltzmann's constant\n",
    "energy=np.linspace(0, 2.01*Ef, num=101)\n",
    "T=1.0e7 #this is in Kelvin\n",
    "f=1.0/(np.exp((energy-Ef)/(kb*T))+1.0)"
   ]
  },
  {
   "cell_type": "code",
   "execution_count": 5,
   "metadata": {},
   "outputs": [
    {
     "data": {
      "image/png": "[encoded data removed]",
      "text/plain": [
       "<Figure size 432x288 with 1 Axes>"
      ]
     },
     "metadata": {
      "needs_background": "light"
     },
     "output_type": "display_data"
    }
   ],
   "source": [
    "import matplotlib.pyplot as plt\n",
    "plt.plot(energy, f)\n",
    "plt.xlabel('E (erg)', fontsize=14)\n",
    "plt.ylabel('f(E)', fontsize=14)\n",
    "plt.vlines(Ef, -0.1, 1.05, colors='r', linestyles='dashed', label='E_F')\n",
    "plt.legend()\n",
    "plt.show()"
   ]
  },
  {
   "cell_type": "markdown",
   "metadata": {},
   "source": [
    "Note: I took some of the fundamental constant values from https://ned.ipac.caltech.edu/level5/Glossary/lang_formulae.html"
   ]
  },
  {
   "cell_type": "code",
   "execution_count": null,
   "metadata": {},
   "outputs": [],
   "source": []
  }
 ],
 "metadata": {
  "kernelspec": {
   "display_name": "Python 3",
   "language": "python",
   "name": "python3"
  },
  "language_info": {
   "codemirror_mode": {
    "name": "ipython",
    "version": 3
   },
   "file_extension": ".py",
   "mimetype": "text/x-python",
   "name": "python",
   "nbconvert_exporter": "python",
   "pygments_lexer": "ipython3",
   "version": "3.8.3"
  }
 },
 "nbformat": 4,
 "nbformat_minor": 4
}
